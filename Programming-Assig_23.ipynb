{
 "cells": [
  {
   "cell_type": "markdown",
   "id": "3426634a",
   "metadata": {},
   "source": [
    "### 1.Create a function that takes a number as an argument and returns True or False depending on whether the number is symmetrical or not. A number is symmetrical when it is the same as its reverse.\n",
    "Examples:\n",
    "is_symmetrical(7227) ➞ True\n",
    "is_symmetrical(12567) ➞ False\n",
    "is_symmetrical(44444444) ➞ True\n",
    "is_symmetrical(9939) ➞ False\n",
    "is_symmetrical(1112111) ➞ True"
   ]
  },
  {
   "cell_type": "code",
   "execution_count": 1,
   "id": "88ce7ebe",
   "metadata": {},
   "outputs": [
    {
     "name": "stdout",
     "output_type": "stream",
     "text": [
      "is_symmetrical(7227) --> True\n",
      "is_symmetrical(12567) --> False\n",
      "is_symmetrical(44444444) --> True\n",
      "is_symmetrical(9939) --> False\n",
      "is_symmetrical(1112111) --> True\n"
     ]
    }
   ],
   "source": [
    "#Solution:-\n",
    "\n",
    "def symmetrical(num):\n",
    "    if str(num) == str(num)[::-1]:\n",
    "        print(f'is_symmetrical({num}) --> {True}')\n",
    "    else:\n",
    "         print(f'is_symmetrical({num}) --> {False}')\n",
    "   \n",
    "symmetrical(7227)\n",
    "symmetrical(12567)\n",
    "symmetrical(44444444)\n",
    "symmetrical(9939)\n",
    "symmetrical(1112111)"
   ]
  },
  {
   "cell_type": "markdown",
   "id": "1c8ba854",
   "metadata": {},
   "source": [
    "### 2.Given a string of numbers separated by a comma and space, return the product of the numbers.\n",
    "Examples:\n",
    "multiply_nums(\"2, 3\") ➞ 6\n",
    "multiply_nums(\"1, 2, 3, 4\") ➞ 24\n",
    "multiply_nums(\"54, 75, 453, 0\") ➞ 0\n",
    "multiply_nums(\"10, -2\") ➞ -20"
   ]
  },
  {
   "cell_type": "code",
   "execution_count": 2,
   "id": "00c79a91",
   "metadata": {},
   "outputs": [
    {
     "name": "stdout",
     "output_type": "stream",
     "text": [
      " multiply_nums(2, 3) --> 6\n",
      " multiply_nums(1, 2, 3, 4) --> 24\n",
      " multiply_nums(54, 75, 453, 0) --> 0\n",
      " multiply_nums(10, -2) --> -20\n"
     ]
    }
   ],
   "source": [
    "#Solution:-\n",
    "\n",
    "def product(in_str):\n",
    "    out_str = in_str.replace(' ','').split(',')\n",
    "    count = 1\n",
    "    for i in out_str:\n",
    "        count *= int(i)\n",
    "    print(f\" multiply_nums({in_str}) --> {count}\")\n",
    " \n",
    "product(\"2, 3\")\n",
    "product(\"1, 2, 3, 4\")\n",
    "product(\"54, 75, 453, 0\")\n",
    "product(\"10, -2\")"
   ]
  },
  {
   "cell_type": "markdown",
   "id": "dbee6bb4",
   "metadata": {},
   "source": [
    "### 3.Create a function that squares every digit of a number.\n",
    "Examples:\n",
    "square_digits(9119) ➞ 811181\n",
    "square_digits(2483) ➞ 416649\n",
    "square_digits(3212) ➞ 9414\n",
    "\n",
    "Notes:\n",
    "The function receives an integer and must return an integer.\n"
   ]
  },
  {
   "cell_type": "code",
   "execution_count": 3,
   "id": "3a1ace05",
   "metadata": {},
   "outputs": [
    {
     "name": "stdout",
     "output_type": "stream",
     "text": [
      " square_digits(9119) --> 811181\n",
      " square_digits(2483) --> 416649\n",
      " square_digits(3212) --> 9414\n"
     ]
    }
   ],
   "source": [
    "#Solution:-\n",
    "\n",
    "def square_digits(in_num):\n",
    "    in_list = [str(int(ele)**2) for ele in str(in_num)]\n",
    "    out_list = ''.join(in_list)\n",
    "    print(f' square_digits({in_num}) --> {int(out_list)}')\n",
    "\n",
    "square_digits(9119)\n",
    "square_digits(2483)\n",
    "square_digits(3212)\n",
    "    "
   ]
  },
  {
   "cell_type": "markdown",
   "id": "f6bd2219",
   "metadata": {},
   "source": [
    "### 4.Create a function that sorts a list and removes all duplicate items from it.\n",
    "Examples:\n",
    "setify([1, 3, 3, 5, 5]) ➞ [1, 3, 5]\n",
    "setify([4, 4, 4, 4]) ➞ [4]\n",
    "setify([5, 7, 8, 9, 10, 15]) ➞ [5, 7, 8, 9, 10, 15]\n",
    "setify([3, 3, 3, 2, 1]) ➞ [1, 2, 3]"
   ]
  },
  {
   "cell_type": "code",
   "execution_count": 4,
   "id": "45c42f11",
   "metadata": {},
   "outputs": [
    {
     "name": "stdout",
     "output_type": "stream",
     "text": [
      "setify([1, 3, 3, 5, 5] --> [1, 3, 5]\n",
      "setify([4, 4, 4, 4] --> [4]\n",
      "setify([5, 7, 8, 9, 10, 15] --> [5, 7, 8, 9, 10, 15]\n",
      "setify([3, 3, 3, 2, 1] --> [3, 2, 1]\n"
     ]
    }
   ],
   "source": [
    "#Solution:-\n",
    "\n",
    "def duplicate(l1):\n",
    "    out_list = []\n",
    "    for i in l1:\n",
    "        if i not in out_list:\n",
    "            out_list.append(i)\n",
    "    print(f\"setify({l1} --> {out_list}\")\n",
    "duplicate([1,3,3,5,5])\n",
    "duplicate([4, 4, 4, 4])\n",
    "duplicate([5, 7, 8, 9, 10, 15])\n",
    "duplicate([3, 3, 3, 2, 1])"
   ]
  },
  {
   "cell_type": "markdown",
   "id": "374709d8",
   "metadata": {},
   "source": [
    "### 5.Create a function that returns the mean of all digits.\n",
    "Examples:\n",
    "mean(42) ➞ 3\n",
    "mean(12345) ➞ 3\n",
    "mean(666) ➞ 6\n",
    "\n",
    "Notes:\n",
    "1.The mean of all digits is the sum of digits / how many digits there are (e.g. mean of digits in 512 is (5+1+2)/3(number of digits) = 8/3=2).\n",
    "2.The mean will always be an integer."
   ]
  },
  {
   "cell_type": "code",
   "execution_count": 6,
   "id": "294699b4",
   "metadata": {},
   "outputs": [
    {
     "name": "stdout",
     "output_type": "stream",
     "text": [
      "mean(42) --> 3.0\n",
      "mean(12345) --> 3.0\n",
      "mean(666) --> 6.0\n"
     ]
    }
   ],
   "source": [
    "#Solution:-\n",
    "\n",
    "def mean(num):\n",
    "    a = [int(n) for n in str(num)]\n",
    "    output = sum(a)/len(a)\n",
    "    print(f\"mean({num}) --> {output}\")\n",
    "mean(42)\n",
    "mean(12345)\n",
    "mean(666)          "
   ]
  }
 ],
 "metadata": {
  "kernelspec": {
   "display_name": "Python 3 (ipykernel)",
   "language": "python",
   "name": "python3"
  },
  "language_info": {
   "codemirror_mode": {
    "name": "ipython",
    "version": 3
   },
   "file_extension": ".py",
   "mimetype": "text/x-python",
   "name": "python",
   "nbconvert_exporter": "python",
   "pygments_lexer": "ipython3",
   "version": "3.10.9"
  }
 },
 "nbformat": 4,
 "nbformat_minor": 5
}
